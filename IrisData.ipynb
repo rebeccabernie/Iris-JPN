{
 "cells": [
  {
   "cell_type": "markdown",
   "metadata": {},
   "source": [
    "## Iris Data Set\n",
    "This problem sheet relates to the [Iris data set](https://archive.ics.uci.edu/ml/datasets/iris) and uses jupyter, numpy and pyplot. Problems are labelled 1 to 10. "
   ]
  },
  {
   "cell_type": "markdown",
   "metadata": {},
   "source": [
    "#### 1. Get and load the Iris data."
   ]
  },
  {
   "cell_type": "code",
   "execution_count": 6,
   "metadata": {},
   "outputs": [
    {
     "name": "stdout",
     "output_type": "stream",
     "text": [
      "['5.1', '3.5', '1.4', '0.2', 'Iris-setosa']\n",
      "['4.9', '3.0', '1.4', '0.2', 'Iris-setosa']\n",
      "['4.7', '3.2', '1.3', '0.2', 'Iris-setosa']\n",
      "['4.6', '3.1', '1.5', '0.2', 'Iris-setosa']\n",
      "['5.0', '3.6', '1.4', '0.2', 'Iris-setosa']\n",
      "['5.4', '3.9', '1.7', '0.4', 'Iris-setosa']\n",
      "['4.6', '3.4', '1.4', '0.3', 'Iris-setosa']\n",
      "['5.0', '3.4', '1.5', '0.2', 'Iris-setosa']\n",
      "['4.4', '2.9', '1.4', '0.2', 'Iris-setosa']\n",
      "['4.9', '3.1', '1.5', '0.1', 'Iris-setosa']\n"
     ]
    }
   ],
   "source": [
    "# Adapted from https://docs.python.org/3.1/library/csv.html\n",
    "import csv\n",
    "\n",
    "filename = 'data.csv'\n",
    "sLen = []\n",
    "sWid = []\n",
    "pLen = []\n",
    "pWid = []\n",
    "classification = []\n",
    "\n",
    "with open(filename, 'rt') as f:\n",
    "    dataFile = csv.reader(f)\n",
    "    for index, row in enumerate(dataFile):\n",
    "        sLen.append(row[0])\n",
    "        sWid.append(row[1])\n",
    "        pLen.append(row[2])\n",
    "        pWid.append(row[3])\n",
    "        classification.append(row[4])\n",
    "        \n",
    "        if index < 10:\n",
    "            print (row)"
   ]
  },
  {
   "cell_type": "markdown",
   "metadata": {},
   "source": [
    "#### 2. Write a note about the data set.  \n",
    "The [Iris data set](https://archive.ics.uci.edu/ml/datasets/iris) was created by Ronald Fisher in 1936 and contains 50 samples from each of the three species of Iris - Iris setosa, Iris virginica and Iris versicolor. The structure of the set is as follows: *sepal length, sepal width, petal length, petal width, classification*. A raw copy of the data set can be found [here](https://archive.ics.uci.edu/ml/machine-learning-databases/iris/iris.data).  "
   ]
  },
  {
   "cell_type": "markdown",
   "metadata": {},
   "source": [
    "#### 3. Create a simple plot.\n",
    "Use pyplot to create a scatter plot of sepal length on the x-axis versus sepal width on the y-axis."
   ]
  },
  {
   "cell_type": "code",
   "execution_count": null,
   "metadata": {},
   "outputs": [],
   "source": [
    "import matplotlib.pyplot as pl\n",
    "\n",
    "pl.plot(sLen, sWid)\n",
    "pl.show()"
   ]
  },
  {
   "cell_type": "code",
   "execution_count": null,
   "metadata": {},
   "outputs": [],
   "source": []
  }
 ],
 "metadata": {
  "kernelspec": {
   "display_name": "Python 3",
   "language": "python",
   "name": "python3"
  }
 },
 "nbformat": 4,
 "nbformat_minor": 2
}
